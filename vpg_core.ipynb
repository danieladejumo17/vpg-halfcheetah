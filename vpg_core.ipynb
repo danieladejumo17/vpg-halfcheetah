{
 "cells": [
  {
   "cell_type": "code",
   "execution_count": 1,
   "id": "f8cab1d6-aee3-4887-accf-1979e35d9f6e",
   "metadata": {},
   "outputs": [],
   "source": [
    "#| default_exp vpg_core"
   ]
  },
  {
   "cell_type": "code",
   "execution_count": 1,
   "id": "0d84e920-f942-4ae0-b7a5-c5d9749ccd6e",
   "metadata": {},
   "outputs": [],
   "source": [
    "#| export\n",
    "import torch\n",
    "import torch.nn as nn\n",
    "import torch.nn.functional as F\n",
    "import numpy as np"
   ]
  },
  {
   "cell_type": "markdown",
   "id": "c531c08b-72b6-4e35-8e6a-cc3a5c8fd427",
   "metadata": {},
   "source": [
    "### MLP Generator"
   ]
  },
  {
   "cell_type": "code",
   "execution_count": 3,
   "id": "03eb716b-426c-479e-98a7-157a89f389b4",
   "metadata": {},
   "outputs": [],
   "source": [
    "#| export\n",
    "def mlp(sizes, activation, output_activation=nn.Identity):\n",
    "    layers = []\n",
    "    \n",
    "    # for n sizes, there will be n-1 layers. A layer connect two sizes\n",
    "    # Note: A size here refers to the input, hidden or output activations in the MLP network \n",
    "    for layer in range(len(sizes)-1):\n",
    "        # use the output_activation when creating the last layer which is at index n-2\n",
    "        act = activation if layer < (len(sizes)-2) else output_activation\n",
    "        \n",
    "        # create a layer connecting this size and the next size, and add its activation\n",
    "        layers += [nn.Linear(sizes[layer], sizes[layer+1]), act()]\n",
    "    return nn.Sequential(*layers)"
   ]
  },
  {
   "cell_type": "code",
   "execution_count": 4,
   "id": "5b26fff2-bb7d-4d64-9494-c64f434af650",
   "metadata": {},
   "outputs": [
    {
     "data": {
      "text/plain": [
       "Sequential(\n",
       "  (0): Linear(in_features=4, out_features=32, bias=True)\n",
       "  (1): ReLU()\n",
       "  (2): Linear(in_features=32, out_features=32, bias=True)\n",
       "  (3): ReLU()\n",
       "  (4): Linear(in_features=32, out_features=1, bias=True)\n",
       "  (5): Identity()\n",
       ")"
      ]
     },
     "execution_count": 4,
     "metadata": {},
     "output_type": "execute_result"
    }
   ],
   "source": [
    "hidden_sizes = [32, 32]\n",
    "in_size = 4\n",
    "out_size = 1\n",
    "\n",
    "model = mlp([in_size]+hidden_sizes+[out_size], nn.ReLU, nn.Identity)\n",
    "model"
   ]
  },
  {
   "cell_type": "code",
   "execution_count": 5,
   "id": "3db6a2e3-e245-4bc4-8317-95daa2035aa6",
   "metadata": {},
   "outputs": [
    {
     "data": {
      "text/plain": [
       "[torch.Size([32, 4]),\n",
       " torch.Size([32]),\n",
       " torch.Size([32, 32]),\n",
       " torch.Size([32]),\n",
       " torch.Size([1, 32]),\n",
       " torch.Size([1])]"
      ]
     },
     "execution_count": 5,
     "metadata": {},
     "output_type": "execute_result"
    }
   ],
   "source": [
    "[p.shape for p in model.parameters()]"
   ]
  },
  {
   "cell_type": "code",
   "execution_count": 6,
   "id": "e80e39f3-0061-4d07-91a2-907bedb3f82a",
   "metadata": {},
   "outputs": [
    {
     "data": {
      "text/plain": [
       "1249"
      ]
     },
     "execution_count": 6,
     "metadata": {},
     "output_type": "execute_result"
    }
   ],
   "source": [
    "sum([np.prod(p.shape) for p in model.parameters()])"
   ]
  },
  {
   "cell_type": "markdown",
   "id": "d093ded2-5996-4fe4-ad58-a8e5197ccbe9",
   "metadata": {},
   "source": [
    "### Count Params in a Model"
   ]
  },
  {
   "cell_type": "code",
   "execution_count": 7,
   "id": "930d975d-35c5-4bcc-9e2a-801f371d7e5f",
   "metadata": {},
   "outputs": [],
   "source": [
    "#| export\n",
    "def count_params(model):\n",
    "    return sum([np.prod(p.shape) for p in model.parameters()])"
   ]
  },
  {
   "cell_type": "code",
   "execution_count": 8,
   "id": "7559dd6c-aca9-4dab-b5a0-419881cf0364",
   "metadata": {},
   "outputs": [
    {
     "data": {
      "text/plain": [
       "1249"
      ]
     },
     "execution_count": 8,
     "metadata": {},
     "output_type": "execute_result"
    }
   ],
   "source": [
    "count_params(model)"
   ]
  },
  {
   "cell_type": "markdown",
   "id": "22b06c3b-d43c-41ef-8150-ea54f14495fb",
   "metadata": {},
   "source": [
    "### Get Combined Shape of a Batch of Inputs"
   ]
  },
  {
   "cell_type": "code",
   "execution_count": 9,
   "id": "b559fa11-9ab5-402f-9ee8-7776804118ac",
   "metadata": {},
   "outputs": [],
   "source": [
    "#| export\n",
    "def combined_shape(length, shape=None):\n",
    "    if shape is None:\n",
    "        return (length,)\n",
    "    return (length, shape) if np.isscalar(shape) else (length, *shape)"
   ]
  },
  {
   "cell_type": "code",
   "execution_count": 10,
   "id": "37fe210a-e0a8-4c34-b1ce-98518a956779",
   "metadata": {},
   "outputs": [
    {
     "data": {
      "text/plain": [
       "(300, 4)"
      ]
     },
     "execution_count": 10,
     "metadata": {},
     "output_type": "execute_result"
    }
   ],
   "source": [
    "combined_shape(300, [4])"
   ]
  },
  {
   "cell_type": "markdown",
   "id": "bbd21ed1-f22c-4f53-8124-84a0050495cd",
   "metadata": {},
   "source": [
    "### Discounted Cumulative Sum"
   ]
  },
  {
   "cell_type": "code",
   "execution_count": 11,
   "id": "22c87258-adfd-4966-91c0-b64ef41e6b01",
   "metadata": {},
   "outputs": [],
   "source": [
    "#| export\n",
    "import scipy.signal\n",
    "\n",
    "def discount_cumsum(x, discount):\n",
    "    \"\"\"\n",
    "    magic from rllab for computing discounted cumulative sums of vectors.\n",
    "\n",
    "    input: \n",
    "        vector x, \n",
    "        [x0, \n",
    "         x1, \n",
    "         x2]\n",
    "\n",
    "    output:\n",
    "        [x0 + discount * x1 + discount^2 * x2,  \n",
    "         x1 + discount * x2,\n",
    "         x2]\n",
    "    \"\"\"\n",
    "    return scipy.signal.lfilter([1], [1, float(-discount)], x[::-1], axis=0)[::-1]"
   ]
  },
  {
   "cell_type": "code",
   "execution_count": 12,
   "id": "e2397fac-52b0-478c-b9de-be1de78faf26",
   "metadata": {},
   "outputs": [
    {
     "data": {
      "text/plain": [
       "array([4.0951, 3.439 , 2.71  , 1.9   , 1.    ])"
      ]
     },
     "execution_count": 12,
     "metadata": {},
     "output_type": "execute_result"
    }
   ],
   "source": [
    "discount_cumsum(np.ones(5), 0.9)"
   ]
  },
  {
   "cell_type": "markdown",
   "id": "4cf1568d-76fa-45ec-8ca6-5b0e9ec17b95",
   "metadata": {},
   "source": [
    "### Actors"
   ]
  },
  {
   "cell_type": "markdown",
   "id": "cd278d27-97ba-48d9-9c41-65fbcc692f13",
   "metadata": {},
   "source": [
    "#### Base Actor Class"
   ]
  },
  {
   "cell_type": "code",
   "execution_count": 13,
   "id": "2c9f1382-29e8-452e-9d26-ee52b61ba57d",
   "metadata": {},
   "outputs": [],
   "source": [
    "#| export\n",
    "class Actor(nn.Module):\n",
    "    def _distribution(self, obs):\n",
    "        raise NotImplementedError\n",
    "        \n",
    "    def _log_prob_from_distribution(self, pi, act):\n",
    "        raise NotImplementedError\n",
    "        \n",
    "    def forward(self, obs, act=None):\n",
    "        pi = self._distribution(obs)\n",
    "        log_prob = None\n",
    "        if act is not None:\n",
    "            log_prob = self._log_prob_from_distribution(pi, act)\n",
    "        return pi, log_prob        "
   ]
  },
  {
   "cell_type": "markdown",
   "id": "533775ec-37f8-46da-b981-038dc3140770",
   "metadata": {},
   "source": [
    "#### MLP Categorical Actor"
   ]
  },
  {
   "cell_type": "code",
   "execution_count": 14,
   "id": "9f5c1c87-c032-45e3-89b4-f46b1355836c",
   "metadata": {},
   "outputs": [],
   "source": [
    "#| export\n",
    "from torch.distributions.categorical import Categorical\n",
    "\n",
    "class MLPCategoricalActor(Actor):\n",
    "    def __init__(self, obs_dim, act_dim, hidden_sizes, activation):\n",
    "        super().__init__()\n",
    "        self.logits_net = mlp([obs_dim] + list(hidden_sizes) + [act_dim], activation)\n",
    "        \n",
    "    def _distribution(self, obs):\n",
    "        logits = self.logits_net(obs)\n",
    "        return Categorical(logits=logits)\n",
    "        \n",
    "    def _log_prob_from_distribution(self, pi, act):\n",
    "        return pi.log_prob(act)"
   ]
  },
  {
   "cell_type": "code",
   "execution_count": 15,
   "id": "0b33dda0-2fd6-4395-8521-8f6ced284166",
   "metadata": {},
   "outputs": [
    {
     "data": {
      "text/plain": [
       "MLPCategoricalActor(\n",
       "  (logits_net): Sequential(\n",
       "    (0): Linear(in_features=16, out_features=64, bias=True)\n",
       "    (1): ReLU()\n",
       "    (2): Linear(in_features=64, out_features=64, bias=True)\n",
       "    (3): ReLU()\n",
       "    (4): Linear(in_features=64, out_features=2, bias=True)\n",
       "    (5): Identity()\n",
       "  )\n",
       ")"
      ]
     },
     "execution_count": 15,
     "metadata": {},
     "output_type": "execute_result"
    }
   ],
   "source": [
    "actor = MLPCategoricalActor(obs_dim=16, act_dim=2, hidden_sizes=[64, 64], activation=nn.ReLU)\n",
    "actor"
   ]
  },
  {
   "cell_type": "code",
   "execution_count": 16,
   "id": "de1de016-b6f2-4025-a226-7d1df9476a0a",
   "metadata": {},
   "outputs": [
    {
     "data": {
      "text/plain": [
       "((Categorical(logits: torch.Size([2])), None),\n",
       " (Categorical(logits: torch.Size([128, 2])), None))"
      ]
     },
     "execution_count": 16,
     "metadata": {},
     "output_type": "execute_result"
    }
   ],
   "source": [
    "actor(torch.randn(16)), actor(torch.randn(128, 16))"
   ]
  },
  {
   "cell_type": "code",
   "execution_count": 17,
   "id": "351601d0-703f-4a7c-85c6-28a5b93ec95c",
   "metadata": {},
   "outputs": [
    {
     "data": {
      "text/plain": [
       "tensor(0)"
      ]
     },
     "execution_count": 17,
     "metadata": {},
     "output_type": "execute_result"
    }
   ],
   "source": [
    "act = actor(torch.randn(16))[0].sample()\n",
    "act"
   ]
  },
  {
   "cell_type": "code",
   "execution_count": 18,
   "id": "de1ce6bd-f8d4-4ee1-8ac7-c3f7b6615c38",
   "metadata": {},
   "outputs": [
    {
     "data": {
      "text/plain": [
       "(Categorical(logits: torch.Size([2])),\n",
       " tensor([-0.7752], grad_fn=<SqueezeBackward1>))"
      ]
     },
     "execution_count": 18,
     "metadata": {},
     "output_type": "execute_result"
    }
   ],
   "source": [
    "actor(torch.randn(16), torch.tensor([0]))"
   ]
  },
  {
   "cell_type": "markdown",
   "id": "732a0073-c13d-4d0e-8128-179fd07568c8",
   "metadata": {},
   "source": [
    "#### MLP Guassian Actor"
   ]
  },
  {
   "cell_type": "code",
   "execution_count": 19,
   "id": "fcc08ef8-4cc7-4864-9b4e-0a2ec718effb",
   "metadata": {},
   "outputs": [],
   "source": [
    "#| export\n",
    "from torch.distributions.normal import Normal\n",
    "\n",
    "class MLPGuassianActor(Actor):\n",
    "    def __init__(self, obs_dim, act_dim, hidden_sizes, activation):\n",
    "        super().__init__()\n",
    "        log_std = -0.5*np.ones(act_dim, dtype=np.float32)\n",
    "        self.log_std = nn.Parameter(torch.as_tensor(log_std))\n",
    "        self.mu_net = mlp([obs_dim] + list(hidden_sizes) + [act_dim], activation)\n",
    "        \n",
    "    def _distribution(self, obs):\n",
    "        mu = self.mu_net(obs)\n",
    "        std = torch.exp(self.log_std)\n",
    "        return Normal(mu, std)\n",
    "    \n",
    "    def _log_prob_from_distribution(self, pi, act):\n",
    "        # act has N dimensions. To get the log_prob of action `act`, sum the \n",
    "        # log_prob of each of the dim of act\n",
    "        return pi.log_prob(act).sum(axis=-1)"
   ]
  },
  {
   "cell_type": "code",
   "execution_count": 20,
   "id": "70203b89-f532-4ef0-a5ba-30783fd30f39",
   "metadata": {},
   "outputs": [
    {
     "data": {
      "text/plain": [
       "MLPGuassianActor(\n",
       "  (mu_net): Sequential(\n",
       "    (0): Linear(in_features=16, out_features=64, bias=True)\n",
       "    (1): ReLU()\n",
       "    (2): Linear(in_features=64, out_features=64, bias=True)\n",
       "    (3): ReLU()\n",
       "    (4): Linear(in_features=64, out_features=2, bias=True)\n",
       "    (5): Identity()\n",
       "  )\n",
       ")"
      ]
     },
     "execution_count": 20,
     "metadata": {},
     "output_type": "execute_result"
    }
   ],
   "source": [
    "actor = MLPGuassianActor(obs_dim=16, act_dim=2, hidden_sizes=[64, 64], activation=nn.ReLU)\n",
    "actor"
   ]
  },
  {
   "cell_type": "code",
   "execution_count": 21,
   "id": "2cc2775d-c058-4ff7-8352-2337a0e1c7b1",
   "metadata": {},
   "outputs": [
    {
     "data": {
      "text/plain": [
       "((Normal(loc: torch.Size([2]), scale: torch.Size([2])), None),\n",
       " (Normal(loc: torch.Size([2]), scale: torch.Size([2])),\n",
       "  tensor(-1.1237, grad_fn=<SumBackward1>)))"
      ]
     },
     "execution_count": 21,
     "metadata": {},
     "output_type": "execute_result"
    }
   ],
   "source": [
    "actor(torch.randn(16)), actor(torch.randn(16), torch.tensor([0.2, 0.25])) "
   ]
  },
  {
   "cell_type": "markdown",
   "id": "d24fab2c-d2d0-4f68-b3b0-2c80372fe0ef",
   "metadata": {},
   "source": [
    "### Critics"
   ]
  },
  {
   "cell_type": "markdown",
   "id": "15103e39-4e4a-4bb4-89e2-ba53b1d51454",
   "metadata": {},
   "source": [
    "#### MLP Critic"
   ]
  },
  {
   "cell_type": "code",
   "execution_count": 22,
   "id": "ec292d27-c482-4ff4-94e3-353ec2c0c7d3",
   "metadata": {},
   "outputs": [],
   "source": [
    "#| export\n",
    "class MLPCritic(nn.Module):\n",
    "    def __init__(self, obs_dim, hidden_sizes, activation):\n",
    "        super().__init__()\n",
    "        self.v_net = mlp([obs_dim] + list(hidden_sizes) + [1], activation)\n",
    "        \n",
    "    def forward(self, obs):\n",
    "        # reshape the output from (batch, 1) to (batch)\n",
    "        return torch.squeeze(self.v_net(obs), dim=-1)"
   ]
  },
  {
   "cell_type": "code",
   "execution_count": 23,
   "id": "af0c2498-bde1-4952-91ed-d5998d167531",
   "metadata": {},
   "outputs": [
    {
     "data": {
      "text/plain": [
       "MLPCritic(\n",
       "  (v_net): Sequential(\n",
       "    (0): Linear(in_features=16, out_features=64, bias=True)\n",
       "    (1): ReLU()\n",
       "    (2): Linear(in_features=64, out_features=64, bias=True)\n",
       "    (3): ReLU()\n",
       "    (4): Linear(in_features=64, out_features=1, bias=True)\n",
       "    (5): Identity()\n",
       "  )\n",
       ")"
      ]
     },
     "execution_count": 23,
     "metadata": {},
     "output_type": "execute_result"
    }
   ],
   "source": [
    "critic = MLPCritic(obs_dim=16, hidden_sizes=[64,64], activation=nn.ReLU)\n",
    "critic"
   ]
  },
  {
   "cell_type": "code",
   "execution_count": 24,
   "id": "73454e1b-8cf3-4dbb-9e6d-d00c3372f7f1",
   "metadata": {},
   "outputs": [
    {
     "data": {
      "text/plain": [
       "tensor([ 0.0894,  0.0939, -0.0332, -0.1243, -0.0339, -0.0149, -0.0384,  0.0430],\n",
       "       grad_fn=<SqueezeBackward1>)"
      ]
     },
     "execution_count": 24,
     "metadata": {},
     "output_type": "execute_result"
    }
   ],
   "source": [
    "critic(torch.randn(8, 16))"
   ]
  },
  {
   "cell_type": "markdown",
   "id": "9e849bba-41d1-4011-a495-f8a8c701c044",
   "metadata": {},
   "source": [
    "### ActorCritic"
   ]
  },
  {
   "cell_type": "code",
   "execution_count": 25,
   "id": "56b0708f-ada1-44b1-8d97-e60ced0571a0",
   "metadata": {},
   "outputs": [],
   "source": [
    "#| export\n",
    "import gym\n",
    "\n",
    "class MLPActorCritic(nn.Module):\n",
    "    def __init__(self, observation_space, action_space, \n",
    "                 hidden_sizes=[64, 64], \n",
    "                 activation=nn.Tanh):\n",
    "        super().__init__()\n",
    "        \n",
    "        obs_dim = observation_space.shape[0]\n",
    "        \n",
    "        # create a categorical actor for action space of type spaces.Discrete\n",
    "        # and a guassian actor for action space of type spaces.Box\n",
    "        if isinstance(action_space, gym.spaces.Discrete):\n",
    "            self.pi = MLPCategoricalActor(obs_dim, action_space.n, hidden_sizes, activation)\n",
    "        elif isinstance(action_space, gym.spaces.Box):\n",
    "            self.pi = MLPGuassianActor(obs_dim, action_space.shape[0], hidden_sizes, activation)\n",
    "            \n",
    "        # create the value function network\n",
    "        self.v = MLPCritic(obs_dim, hidden_sizes, activation)\n",
    "        \n",
    "    def step(self, obs):\n",
    "        # step is computed with no grad\n",
    "        with torch.no_grad():\n",
    "            # get the pi distribution for this observation\n",
    "            pi = self.pi._distribution(obs)\n",
    "            # sample actions from pi\n",
    "            act = pi.sample()\n",
    "            # get the log_prob of this action\n",
    "            log_prob = self.pi._log_prob_from_distribution(pi, act)\n",
    "            # get the value of this state\n",
    "            v = self.v(obs)\n",
    "        return act.numpy(), v.numpy(), log_prob.numpy()\n",
    "    \n",
    "    def act(self, obs):\n",
    "        \"\"\"Get only the actions for this observation\"\"\"\n",
    "        return self.step(obs)[0]        "
   ]
  },
  {
   "cell_type": "code",
   "execution_count": 26,
   "id": "95837d46-2537-44d7-afee-4c60e3d8eb46",
   "metadata": {},
   "outputs": [
    {
     "name": "stderr",
     "output_type": "stream",
     "text": [
      "/home/daniel/miniconda3/envs/spinningup/lib/python3.6/site-packages/gym/logger.py:30: UserWarning: \u001b[33mWARN: Box bound precision lowered by casting to float32\u001b[0m\n",
      "  warnings.warn(colorize('%s: %s'%('WARN', msg % args), 'yellow'))\n"
     ]
    },
    {
     "data": {
      "text/plain": [
       "(Box(4,), Discrete(2))"
      ]
     },
     "execution_count": 26,
     "metadata": {},
     "output_type": "execute_result"
    }
   ],
   "source": [
    "env = gym.make(\"CartPole-v0\")\n",
    "env.observation_space, env.action_space"
   ]
  },
  {
   "cell_type": "code",
   "execution_count": 27,
   "id": "6086a4b3-972f-4c8b-90b3-9422a99139a0",
   "metadata": {},
   "outputs": [
    {
     "data": {
      "text/plain": [
       "MLPActorCritic(\n",
       "  (pi): MLPCategoricalActor(\n",
       "    (logits_net): Sequential(\n",
       "      (0): Linear(in_features=4, out_features=64, bias=True)\n",
       "      (1): Tanh()\n",
       "      (2): Linear(in_features=64, out_features=64, bias=True)\n",
       "      (3): Tanh()\n",
       "      (4): Linear(in_features=64, out_features=2, bias=True)\n",
       "      (5): Identity()\n",
       "    )\n",
       "  )\n",
       "  (v): MLPCritic(\n",
       "    (v_net): Sequential(\n",
       "      (0): Linear(in_features=4, out_features=64, bias=True)\n",
       "      (1): Tanh()\n",
       "      (2): Linear(in_features=64, out_features=64, bias=True)\n",
       "      (3): Tanh()\n",
       "      (4): Linear(in_features=64, out_features=1, bias=True)\n",
       "      (5): Identity()\n",
       "    )\n",
       "  )\n",
       ")"
      ]
     },
     "execution_count": 27,
     "metadata": {},
     "output_type": "execute_result"
    }
   ],
   "source": [
    "actor_critic = MLPActorCritic(env.observation_space, env.action_space)\n",
    "actor_critic"
   ]
  },
  {
   "cell_type": "code",
   "execution_count": 28,
   "id": "1e284602-ef30-4235-8a4e-54b3e7b5ca87",
   "metadata": {},
   "outputs": [
    {
     "data": {
      "text/plain": [
       "array([ 6.9627032e-02, -2.1017475e+38,  4.0349108e-01, -1.0240234e+38],\n",
       "      dtype=float32)"
      ]
     },
     "execution_count": 28,
     "metadata": {},
     "output_type": "execute_result"
    }
   ],
   "source": [
    "obs = env.observation_space.sample()\n",
    "obs"
   ]
  },
  {
   "cell_type": "code",
   "execution_count": 29,
   "id": "40b6807c-fda5-4467-bc7d-f5140086c9b3",
   "metadata": {},
   "outputs": [
    {
     "data": {
      "text/plain": [
       "(array(0), array(0.41797066, dtype=float32), array(-0.4955001, dtype=float32))"
      ]
     },
     "execution_count": 29,
     "metadata": {},
     "output_type": "execute_result"
    }
   ],
   "source": [
    "act, val, log_prob = actor_critic.step(torch.as_tensor(obs, dtype=torch.float32))\n",
    "act, val, log_prob"
   ]
  },
  {
   "cell_type": "code",
   "execution_count": 30,
   "id": "410933c2-7e43-4960-960b-5d6a668d2cfa",
   "metadata": {},
   "outputs": [],
   "source": [
    "#| hide\n",
    "# import nbdev\n",
    "\n",
    "# nbdev.nbdev_export()"
   ]
  }
 ],
 "metadata": {
  "kernelspec": {
   "display_name": "Python 3",
   "language": "python",
   "name": "python3"
  },
  "language_info": {
   "codemirror_mode": {
    "name": "ipython",
    "version": 3
   },
   "file_extension": ".py",
   "mimetype": "text/x-python",
   "name": "python",
   "nbconvert_exporter": "python",
   "pygments_lexer": "ipython3",
   "version": "3.6.13"
  },
  "vscode": {
   "interpreter": {
    "hash": "5902764af3eca108f12d4a47809553b6d971d00f185bccc8721f2411d4980bf3"
   }
  }
 },
 "nbformat": 4,
 "nbformat_minor": 5
}
