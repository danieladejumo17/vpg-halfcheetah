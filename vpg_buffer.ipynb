{
 "cells": [
  {
   "cell_type": "code",
   "execution_count": 4,
   "id": "df37040d-3971-4cdf-9e55-61fc7fcecaab",
   "metadata": {},
   "outputs": [],
   "source": [
    "#| default_exp vpg_buffer"
   ]
  },
  {
   "cell_type": "code",
   "execution_count": 16,
   "id": "52b697c0-4919-4595-9b19-ed455da612f7",
   "metadata": {},
   "outputs": [],
   "source": [
    "#| export\n",
    "import numpy as np\n",
    "import torch\n",
    "import vpg.vpg_core as core"
   ]
  },
  {
   "cell_type": "code",
   "execution_count": 2,
   "id": "5155c0ba-3f72-4027-ae05-2b1f0626ac1c",
   "metadata": {},
   "outputs": [],
   "source": [
    "#| export\n",
    "class VPGBuffer:\n",
    "    def __init__(self, obs_dim, act_dim, size, gamma, gae_lambda):\n",
    "        self.obs_buffer = np.zeros(core.combined_shape(size, obs_dim), dtype=np.float32)\n",
    "        self.act_buffer = np.zeros(core.combined_shape(size, act_dim), dtype=np.float32)\n",
    "        self.rew_buffer = np.zeros(size, dtype=np.float32)\n",
    "        self.ret_buffer = np.zeros(size, dtype=np.float32)\n",
    "        self.val_buffer = np.zeros(size, dtype=np.float32)\n",
    "        self.adv_buffer = np.zeros(size, dtype=np.float32)\n",
    "        self.log_prob_buffer = np.zeros(size, dtype=np.float32)\n",
    "        \n",
    "        self.gamma, self.gae_lambda = gamma, gae_lambda\n",
    "        self.ptr, self.path_start_idx, self.max_size = 0, 0, size\n",
    "    \n",
    "    def store(self, obs, act, rew, val, log_prob):\n",
    "        \"\"\"\n",
    "        Append one timestep of agent-environment interaction ot the buffer\n",
    "        \"\"\"\n",
    "        \n",
    "        assert self.ptr < self.max_size, \"Buffer is filled up\"\n",
    "        self.obs_buffer[self.ptr] = obs\n",
    "        self.act_buffer[self.ptr] = act\n",
    "        self.rew_buffer[self.ptr] = rew\n",
    "        self.val_buffer[self.ptr] = val\n",
    "        self.log_prob_buffer[self.ptr] = log_prob\n",
    "        self.ptr += 1\n",
    "    \n",
    "    def finish_path(self, last_val=0):\n",
    "        \"\"\"\n",
    "        Call this at the end of a trajectory, or when a trajectory gets cut \n",
    "        off by an epoch ending. This looks back in the buffer to where the\n",
    "        trajectory started, and uses rewards and value estimates from\n",
    "        the whole trajectory to compute advantage estimates with GAE-Lambda,\n",
    "        as well as compute the rewards-to-go for each state, to use as\n",
    "        the targets for the value function.\n",
    "\n",
    "        The \"last_val\" argument should be 0 if the trajectory ended\n",
    "        because the agent reached a terminal state (died), and otherwise\n",
    "        should be V(s_T), the value function estimated for the last state.\n",
    "        This allows us to bootstrap the reward-to-go calculation to account\n",
    "        for timesteps beyond the arbitrary episode horizon (or epoch cutoff).\n",
    "        \"\"\"\n",
    "        \n",
    "        # rewards and value estimates for this path\n",
    "        path_slice = slice(self.path_start_idx, self.ptr)\n",
    "        rews = np.append(self.rew_buffer[path_slice], last_val)\n",
    "        vals = np.append(self.val_buffer[path_slice], last_val)\n",
    "        \n",
    "        # GAE implementation\n",
    "        deltas = rews[:-1] + self.gamma*vals[1:] - vals[:-1]\n",
    "        self.adv_buffer[path_slice] = core.discount_cumsum(deltas, self.gamma*self.gae_lambda)\n",
    "        \n",
    "        # Discounted reward-to-go\n",
    "        self.ret_buffer[path_slice] = core.discount_cumsum(rews, self.gamma)[:-1]\n",
    "        \n",
    "        self.path_start_idx = self.ptr\n",
    "    \n",
    "    def get(self):\n",
    "        \"\"\"\n",
    "        Call this at the end of an epoch to get all of the data from\n",
    "        the buffer, with advantages appropriately normalized (shifted to have\n",
    "        mean zero and std one). Also, resets some pointers in the buffer.\n",
    "        \n",
    "        Returns:\n",
    "            (obs, act, ret, adv, log_prob)\n",
    "        \"\"\"\n",
    "        \n",
    "        assert self.ptr == self.max_size, \"Buffer is not yet full\"\n",
    "        self.ptr, self.path_start_idx = 0, 0\n",
    "        \n",
    "        # normalize the advantage\n",
    "        mean = np.mean(self.adv_buffer)\n",
    "        std = np.std(self.adv_buffer)        \n",
    "        self.adv_buffer = (self.adv_buffer - mean)/std\n",
    "        \n",
    "        res = dict(obs=self.obs_buffer, act=self.act_buffer, ret=self.ret_buffer,\n",
    "                  adv=self.adv_buffer, logp=self.log_prob_buffer)\n",
    "        return {k: torch.as_tensor(v, dtype=torch.float32) for k, v in res.items()}"
   ]
  },
  {
   "cell_type": "code",
   "execution_count": 3,
   "id": "be090723-3c5f-40d6-90c1-e6cead7d5a7a",
   "metadata": {},
   "outputs": [],
   "source": [
    "#| hide\n",
    "\n",
    "# import nbdev\n",
    "# nbdev.nbdev_export()"
   ]
  },
  {
   "cell_type": "code",
   "execution_count": null,
   "id": "378726bb-7438-4aad-ba55-9f131062fd13",
   "metadata": {},
   "outputs": [],
   "source": []
  }
 ],
 "metadata": {
  "kernelspec": {
   "display_name": "Python 3",
   "language": "python",
   "name": "python3"
  },
  "language_info": {
   "codemirror_mode": {
    "name": "ipython",
    "version": 3
   },
   "file_extension": ".py",
   "mimetype": "text/x-python",
   "name": "python",
   "nbconvert_exporter": "python",
   "pygments_lexer": "ipython3",
   "version": "3.6.13"
  }
 },
 "nbformat": 4,
 "nbformat_minor": 5
}
